{
 "cells": [
  {
   "cell_type": "markdown",
   "metadata": {},
   "source": [
    "# Stop Words"
   ]
  },
  {
   "cell_type": "markdown",
   "metadata": {},
   "source": [
    "Stop words are those words which have not any meaning in the context of sentiment analysis.\n",
    "Means these are neutral words.\n",
    "For example:: the,at,am,etc."
   ]
  },
  {
   "cell_type": "markdown",
   "metadata": {},
   "source": [
    "## First import all the necessary packages"
   ]
  },
  {
   "cell_type": "code",
   "execution_count": 2,
   "metadata": {},
   "outputs": [],
   "source": [
    "from nltk.corpus import stopwords\n",
    "from nltk.tokenize import word_tokenize"
   ]
  },
  {
   "cell_type": "markdown",
   "metadata": {},
   "source": [
    "## List of all the stop words in english language."
   ]
  },
  {
   "cell_type": "code",
   "execution_count": 3,
   "metadata": {},
   "outputs": [
    {
     "name": "stdout",
     "output_type": "stream",
     "text": [
      "{'them', 'doing', 'any', 'won', 'is', 'were', 'd', 'than', 'until', 'we', 'their', 'further', 'for', 'its', 'couldn', 'did', 'over', 'no', 'in', 'wouldn', 'yourselves', 'what', 'there', 'he', 'ain', 'me', 'isn', 'whom', 'too', 'because', 'some', 'you', 'been', 'each', 'with', 'while', 'same', 'how', 'am', 'these', 'only', 's', 'other', 'hadn', 'her', 'here', 'your', 'most', 'all', 'where', 'a', 'but', 'up', 'both', 'our', 'be', 'herself', 'to', 'own', 'this', 'that', 'just', 'had', 'then', 'so', 'll', 'it', 'shan', 'himself', 'weren', 't', 'ma', 'o', 'who', 'against', 'should', 'once', 'mightn', 'yourself', 'y', 'when', 'more', 'have', 'hers', 'does', 'was', 'his', 'on', 'shouldn', 've', 'the', 'before', 'haven', 'at', 'can', 'and', 'ours', 'm', 'needn', 'she', 'has', 'below', 'now', 'ourselves', 'into', 'not', 'will', 'by', 'out', 'under', 'why', 'don', 'very', 'of', 'above', 'being', 'yours', 'didn', 'down', 'few', 'themselves', 'mustn', 'my', 'between', 'which', 'having', 'an', 're', 'such', 'again', 'itself', 'aren', 'doesn', 'about', 'him', 'hasn', 'are', 'theirs', 'through', 'as', 'off', 'myself', 'wasn', 'those', 'they', 'or', 'after', 'if', 'i', 'do', 'nor', 'from', 'during'}\n"
     ]
    }
   ],
   "source": [
    "stop_words = set(stopwords.words(\"english\"))\n",
    "print(stop_words)"
   ]
  },
  {
   "cell_type": "code",
   "execution_count": 9,
   "metadata": {
    "collapsed": true
   },
   "outputs": [],
   "source": [
    "#Take an example\n",
    "example_text = \"This is an example on which we are going to apply stop-word removal algorithm. so lets see how it works. \""
   ]
  },
  {
   "cell_type": "markdown",
   "metadata": {},
   "source": [
    "### Tokenization is necessary before removal of stop words"
   ]
  },
  {
   "cell_type": "code",
   "execution_count": 10,
   "metadata": {},
   "outputs": [
    {
     "name": "stdout",
     "output_type": "stream",
     "text": [
      "['This', 'is', 'an', 'example', 'on', 'which', 'we', 'are', 'going', 'to', 'apply', 'stop-word', 'removal', 'algorithm', '.', 'so', 'lets', 'see', 'how', 'it', 'works', '.']\n"
     ]
    }
   ],
   "source": [
    "words = word_tokenize(example_text)\n",
    "print(words)"
   ]
  },
  {
   "cell_type": "code",
   "execution_count": 11,
   "metadata": {
    "collapsed": true
   },
   "outputs": [],
   "source": [
    "filtered_sentence = []\n",
    "\n",
    "for word in words:\n",
    "    if word not in stop_words:\n",
    "        filtered_sentence.append(word)"
   ]
  },
  {
   "cell_type": "code",
   "execution_count": 12,
   "metadata": {},
   "outputs": [
    {
     "name": "stdout",
     "output_type": "stream",
     "text": [
      "['This', 'example', 'going', 'apply', 'stop-word', 'removal', 'algorithm', '.', 'lets', 'see', 'works', '.']\n"
     ]
    }
   ],
   "source": [
    "print(filtered_sentence)"
   ]
  },
  {
   "cell_type": "code",
   "execution_count": null,
   "metadata": {
    "collapsed": true
   },
   "outputs": [],
   "source": []
  }
 ],
 "metadata": {
  "kernelspec": {
   "display_name": "Python 3",
   "language": "python",
   "name": "python3"
  },
  "language_info": {
   "codemirror_mode": {
    "name": "ipython",
    "version": 3
   },
   "file_extension": ".py",
   "mimetype": "text/x-python",
   "name": "python",
   "nbconvert_exporter": "python",
   "pygments_lexer": "ipython3",
   "version": "3.6.5"
  }
 },
 "nbformat": 4,
 "nbformat_minor": 2
}
