{
 "cells": [
  {
   "cell_type": "markdown",
   "metadata": {},
   "source": [
    "# NLTK(Natural Language Tool Kit)"
   ]
  },
  {
   "cell_type": "markdown",
   "metadata": {},
   "source": [
    "## Tokenizer"
   ]
  },
  {
   "cell_type": "markdown",
   "metadata": {},
   "source": [
    "1.Load Necessary packages."
   ]
  },
  {
   "cell_type": "code",
   "execution_count": 4,
   "metadata": {
    "collapsed": true
   },
   "outputs": [],
   "source": [
    "from nltk.tokenize import sent_tokenize,word_tokenize\n",
    "import nltk"
   ]
  },
  {
   "cell_type": "code",
   "execution_count": 5,
   "metadata": {},
   "outputs": [
    {
     "name": "stdout",
     "output_type": "stream",
     "text": [
      "showing info https://raw.githubusercontent.com/nltk/nltk_data/gh-pages/index.xml\n"
     ]
    },
    {
     "data": {
      "text/plain": [
       "True"
      ]
     },
     "execution_count": 5,
     "metadata": {},
     "output_type": "execute_result"
    }
   ],
   "source": [
    "nltk.download()\n"
   ]
  },
  {
   "cell_type": "markdown",
   "metadata": {},
   "source": [
    "#tokenizing - word tokennizers....sentence tokennizers\n",
    "#lexicon and corporas\n",
    "#corpora - body of text.ex:medical journal,English Language\n",
    "#lexicon - words and their means\n",
    "\n"
   ]
  },
  {
   "cell_type": "code",
   "execution_count": 12,
   "metadata": {
    "collapsed": true
   },
   "outputs": [],
   "source": [
    "example_text = 'hello, My self python and i am fine . dont worry i m good. why are you crying. it is very bad to cry. she is fine and good. hii Mr. DivayMohan, You are look beutiful. '"
   ]
  },
  {
   "cell_type": "code",
   "execution_count": 13,
   "metadata": {},
   "outputs": [
    {
     "name": "stdout",
     "output_type": "stream",
     "text": [
      "['hello', ',', 'My', 'self', 'python', 'and', 'i', 'am', 'fine', '.', 'dont', 'worry', 'i', 'm', 'good', '.', 'why', 'are', 'you', 'crying', '.', 'it', 'is', 'very', 'bad', 'to', 'cry', '.', 'she', 'is', 'fine', 'and', 'good', '.', 'hii', 'Mr.', 'DivayMohan', ',', 'You', 'are', 'look', 'beutiful', '.']\n"
     ]
    }
   ],
   "source": [
    "print(word_tokenize(example_text))"
   ]
  },
  {
   "cell_type": "code",
   "execution_count": 14,
   "metadata": {},
   "outputs": [
    {
     "name": "stdout",
     "output_type": "stream",
     "text": [
      "['hello, My self python and i am fine .', 'dont worry i m good.', 'why are you crying.', 'it is very bad to cry.', 'she is fine and good.', 'hii Mr. DivayMohan, You are look beutiful.']\n"
     ]
    }
   ],
   "source": [
    "print(sent_tokenize(example_text))"
   ]
  },
  {
   "cell_type": "code",
   "execution_count": 15,
   "metadata": {},
   "outputs": [
    {
     "name": "stdout",
     "output_type": "stream",
     "text": [
      "hello\n",
      ",\n",
      "My\n",
      "self\n",
      "python\n",
      "and\n",
      "i\n",
      "am\n",
      "fine\n",
      ".\n",
      "dont\n",
      "worry\n",
      "i\n",
      "m\n",
      "good\n",
      ".\n",
      "why\n",
      "are\n",
      "you\n",
      "crying\n",
      ".\n",
      "it\n",
      "is\n",
      "very\n",
      "bad\n",
      "to\n",
      "cry\n",
      ".\n",
      "she\n",
      "is\n",
      "fine\n",
      "and\n",
      "good\n",
      ".\n",
      "hii\n",
      "Mr.\n",
      "DivayMohan\n",
      ",\n",
      "You\n",
      "are\n",
      "look\n",
      "beutiful\n",
      ".\n"
     ]
    }
   ],
   "source": [
    "for i in word_tokenize(example_text):\n",
    "    print(i)\n",
    "    "
   ]
  },
  {
   "cell_type": "code",
   "execution_count": 16,
   "metadata": {},
   "outputs": [
    {
     "name": "stdout",
     "output_type": "stream",
     "text": [
      "hello, My self python and i am fine .\n",
      "dont worry i m good.\n",
      "why are you crying.\n",
      "it is very bad to cry.\n",
      "she is fine and good.\n",
      "hii Mr. DivayMohan, You are look beutiful.\n"
     ]
    }
   ],
   "source": [
    "for i in sent_tokenize(example_text):\n",
    "    print(i)"
   ]
  },
  {
   "cell_type": "code",
   "execution_count": null,
   "metadata": {
    "collapsed": true
   },
   "outputs": [],
   "source": []
  }
 ],
 "metadata": {
  "kernelspec": {
   "display_name": "Python 3",
   "language": "python",
   "name": "python3"
  },
  "language_info": {
   "codemirror_mode": {
    "name": "ipython",
    "version": 3
   },
   "file_extension": ".py",
   "mimetype": "text/x-python",
   "name": "python",
   "nbconvert_exporter": "python",
   "pygments_lexer": "ipython3",
   "version": "3.6.5"
  }
 },
 "nbformat": 4,
 "nbformat_minor": 2
}
